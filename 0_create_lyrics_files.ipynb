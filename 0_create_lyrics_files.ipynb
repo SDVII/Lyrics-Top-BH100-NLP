{
 "cells": [
  {
   "cell_type": "code",
   "execution_count": 6,
   "metadata": {
    "pycharm": {
     "is_executing": false,
     "metadata": false,
     "name": "#%%\n"
    }
   },
   "outputs": [
    {
     "name": "stdout",
     "text": [
      "Requirement already satisfied: beautifulsoup4 in c:\\users\\sdvii\\miniconda3\\lib\\site-packages (4.7.1)\n",
      "Requirement already satisfied: lyricsgenius in c:\\users\\sdvii\\miniconda3\\lib\\site-packages (1.5.1)\nCollecting beautifulsoup4==4.6.0 (from lyricsgenius)\n  Using cached https://files.pythonhosted.org/packages/9e/d4/10f46e5cfac773e22707237bfcd51bbffeaf0a576b0a847ec7ab15bd7ace/beautifulsoup4-4.6.0-py3-none-any.whl\nRequirement already satisfied: requests>=2.20.0 in c:\\users\\sdvii\\miniconda3\\lib\\site-packages (from lyricsgenius) (2.21.0)\nRequirement already satisfied: idna<2.9,>=2.5 in c:\\users\\sdvii\\miniconda3\\lib\\site-packages (from requests>=2.20.0->lyricsgenius) (2.8)\nRequirement already satisfied: urllib3<1.25,>=1.21.1 in c:\\users\\sdvii\\miniconda3\\lib\\site-packages (from requests>=2.20.0->lyricsgenius) (1.24.1)\nRequirement already satisfied: certifi>=2017.4.17 in c:\\users\\sdvii\\miniconda3\\lib\\site-packages (from requests>=2.20.0->lyricsgenius) (2019.3.9)\nRequirement already satisfied: chardet<3.1.0,>=3.0.2 in c:\\users\\sdvii\\miniconda3\\lib\\site-packages (from requests>=2.20.0->lyricsgenius) (3.0.4)\n"
     ],
     "output_type": "stream"
    },
    {
     "name": "stderr",
     "text": [
      "No metadata found in c:\\users\\sdvii\\miniconda3\\lib\\site-packages\nCould not install packages due to an EnvironmentError: [Errno 2] No such file or directory: 'c:\\\\users\\\\sdvii\\\\miniconda3\\\\lib\\\\site-packages\\\\beautifulsoup4-4.7.1.dist-info\\\\METADATA'\n\n",
      "Could not install packages due to an EnvironmentError: [Errno 2] No such file or directory: 'c:\\\\users\\\\sdvii\\\\miniconda3\\\\lib\\\\site-packages\\\\beautifulsoup4-4.7.1.dist-info\\\\METADATA'\n\n"
     ],
     "output_type": "stream"
    },
    {
     "traceback": [
      "\u001b[1;31m---------------------------------------------------------------------------\u001b[0m",
      "\u001b[1;31mTypeError\u001b[0m                                 Traceback (most recent call last)",
      "\u001b[1;32m<ipython-input-6-d454b7dc703f>\u001b[0m in \u001b[0;36m<module>\u001b[1;34m\u001b[0m\n\u001b[0;32m     92\u001b[0m     \u001b[0mcombine_files\u001b[0m\u001b[1;33m(\u001b[0m\u001b[1;36m16\u001b[0m\u001b[1;33m,\u001b[0m\u001b[1;36m18\u001b[0m\u001b[1;33m)\u001b[0m\u001b[1;33m\u001b[0m\u001b[1;33m\u001b[0m\u001b[0m\n\u001b[0;32m     93\u001b[0m \u001b[1;33m\u001b[0m\u001b[0m\n\u001b[1;32m---> 94\u001b[1;33m \u001b[0mmain\u001b[0m\u001b[1;33m(\u001b[0m\u001b[1;33m)\u001b[0m\u001b[1;33m\u001b[0m\u001b[1;33m\u001b[0m\u001b[0m\n\u001b[0m",
      "\u001b[1;32m<ipython-input-6-d454b7dc703f>\u001b[0m in \u001b[0;36mmain\u001b[1;34m()\u001b[0m\n\u001b[0;32m     89\u001b[0m     \u001b[0myears\u001b[0m\u001b[1;33m=\u001b[0m \u001b[1;33m[\u001b[0m\u001b[1;34m\"2016\"\u001b[0m\u001b[1;33m,\u001b[0m\u001b[1;34m\"2017\"\u001b[0m\u001b[1;33m,\u001b[0m\u001b[1;34m\"2018\"\u001b[0m\u001b[1;33m]\u001b[0m\u001b[1;33m\u001b[0m\u001b[1;33m\u001b[0m\u001b[0m\n\u001b[0;32m     90\u001b[0m     \u001b[1;32mfor\u001b[0m \u001b[0myear\u001b[0m \u001b[1;32min\u001b[0m \u001b[0myears\u001b[0m\u001b[1;33m:\u001b[0m\u001b[1;33m\u001b[0m\u001b[1;33m\u001b[0m\u001b[0m\n\u001b[1;32m---> 91\u001b[1;33m             \u001b[0mwrite_lyrics\u001b[0m\u001b[1;33m(\u001b[0m\u001b[0myear\u001b[0m\u001b[1;33m)\u001b[0m\u001b[1;33m\u001b[0m\u001b[1;33m\u001b[0m\u001b[0m\n\u001b[0m\u001b[0;32m     92\u001b[0m     \u001b[0mcombine_files\u001b[0m\u001b[1;33m(\u001b[0m\u001b[1;36m16\u001b[0m\u001b[1;33m,\u001b[0m\u001b[1;36m18\u001b[0m\u001b[1;33m)\u001b[0m\u001b[1;33m\u001b[0m\u001b[1;33m\u001b[0m\u001b[0m\n\u001b[0;32m     93\u001b[0m \u001b[1;33m\u001b[0m\u001b[0m\n",
      "\u001b[1;32m<ipython-input-6-d454b7dc703f>\u001b[0m in \u001b[0;36mwrite_lyrics\u001b[1;34m(year)\u001b[0m\n\u001b[0;32m     62\u001b[0m         )\n\u001b[0;32m     63\u001b[0m \u001b[1;33m\u001b[0m\u001b[0m\n\u001b[1;32m---> 64\u001b[1;33m         \u001b[0mfilewriter\u001b[0m\u001b[1;33m.\u001b[0m\u001b[0mwriterow\u001b[0m\u001b[1;33m(\u001b[0m\u001b[1;33m[\u001b[0m\u001b[1;34m'Rank'\u001b[0m\u001b[1;33m,\u001b[0m \u001b[1;34m'Song'\u001b[0m\u001b[1;33m,\u001b[0m \u001b[1;34m'Artist'\u001b[0m\u001b[1;33m,\u001b[0m \u001b[1;34m'Year'\u001b[0m\u001b[1;33m,\u001b[0m\u001b[1;34m'Lyrics'\u001b[0m\u001b[1;33m]\u001b[0m\u001b[1;33m)\u001b[0m\u001b[1;33m\u001b[0m\u001b[1;33m\u001b[0m\u001b[0m\n\u001b[0m\u001b[0;32m     65\u001b[0m         \u001b[0myear_songs\u001b[0m \u001b[1;33m=\u001b[0m \u001b[0mget_billboard_song_titles_for_year\u001b[0m\u001b[1;33m(\u001b[0m\u001b[0myear\u001b[0m\u001b[1;33m)\u001b[0m\u001b[1;33m\u001b[0m\u001b[1;33m\u001b[0m\u001b[0m\n\u001b[0;32m     66\u001b[0m         \u001b[1;32mfor\u001b[0m \u001b[0msong\u001b[0m \u001b[1;32min\u001b[0m \u001b[0myear_songs\u001b[0m\u001b[1;33m:\u001b[0m\u001b[1;33m\u001b[0m\u001b[1;33m\u001b[0m\u001b[0m\n",
      "\u001b[1;31mTypeError\u001b[0m: a bytes-like object is required, not 'str'"
     ],
     "ename": "TypeError",
     "evalue": "a bytes-like object is required, not 'str'",
     "output_type": "error"
    }
   ],
   "source": [
    "import sys\n",
    "!{sys.executable} -m pip install beautifulsoup4\n",
    "!{sys.executable} -m pip install lyricsgenius\n",
    "import requests\n",
    "import re\n",
    "import lyricsgenius\n",
    "import csv\n",
    "from bs4 import BeautifulSoup\n",
    "\n",
    "\"\"\"\n",
    "The Year-end Wiki scrapper, was taken from here:\n",
    "https://github.com/awcooper/spotify_billboard_playlist_generator/blob/master/playlist_generators/hot_100_scraper_v1.py\n",
    "\"\"\"\n",
    "def get_billboard_song_titles_for_year(year):\n",
    "    \"\"\"\n",
    "    :return: List of billboard songs and artists in a tuple '(song, artist)'\n",
    "    \"\"\"\n",
    "    billboard_page = \"https://www.wikizero.com/en/Billboard_Year-End_Hot_100_singles_of_\"\n",
    "    page = requests.get(billboard_page + str(year))\n",
    "    soup = BeautifulSoup(page.content, 'html.parser')\n",
    "    doc = soup.find(\"table\", {\"class\": \"wikitable\"})\n",
    "    year_data = []\n",
    "    for row in doc.find_all([\"tr\"])[1:]:\n",
    "        # The th is required because ~2000+ uses that format instead\n",
    "        row_data = [cell.text.strip() for cell in row.findAll([\"td\", \"th\"])]\n",
    "        if len(row_data) != 3:\n",
    "            print(\"Error Processing Row: \", row)\n",
    "        else:\n",
    "            year_data.append(tuple(row_data))\n",
    "    return year_data\n",
    "\n",
    "\"\"\"Gets the main artist\"\"\"\n",
    "def get_main_artist(content):\n",
    "    \"\"\":return: main artist\"\"\"\n",
    "    for split_token in [\" & \", \" \\\\ \", \" feat \", \" featuring \", \" and \"]:\n",
    "        content = content.partition(split_token)[0]\n",
    "    return content\n",
    "\n",
    "\"\"\"Takes lyrics and removes annotations and empty lines\"\"\"\n",
    "def clean_lyrics(lyrics):\n",
    "    \"\"\":return:clean lyrics\"\"\"\n",
    "    #Remove annotations\n",
    "    lyrics =  re.sub(r'[\\(\\[].*?[\\)\\]]', '',lyrics)\n",
    "    \n",
    "    #Remove empty lines and commas\n",
    "    lyrics = [line.replace(',','') for line in lyrics.split('\\n') if line.strip() != '']\n",
    "    lyrics = \"\\n\".join(lyrics)\n",
    "    \n",
    "    return lyrics\n",
    "\n",
    "\"\"\"Writes a year's lyrics into a .csv file\"\"\"\n",
    "def write_lyrics(year):\n",
    "    token = \"MY_bmSPzzEQDrlRLp9xS77g-vQqtCtimk8Yw4toCkyduF7eUbrPI-IPxXATgAESi\"\n",
    "    genius = lyricsgenius.Genius(token)\n",
    "    \n",
    "    with open('lyrics/'+year+'.csv', 'a', newline=\"\") as csvfile:\n",
    "        filewriter = csv.writer(\n",
    "            csvfile,\n",
    "            delimiter=',',\n",
    "            quotechar='|',\n",
    "            quoting=csv.QUOTE_MINIMAL\n",
    "        )\n",
    "        \n",
    "        filewriter.writerow(['Rank', 'Song', 'Artist', 'Year','Lyrics'])\n",
    "        year_songs = get_billboard_song_titles_for_year(year)\n",
    "        for song in year_songs:\n",
    "            song_rank = song[0]\n",
    "            song_name = song[1]\n",
    "            song_artist = get_main_artist(song[2])\n",
    "            song_lyrics = clean_lyrics(genius.search_song(song_name, song_artist).lyrics)\n",
    "            filewriter.writerow([song_rank, song_name.replace(',',''), song_artist.replace(',',''), year,song_lyrics.encode('utf-8')])\n",
    "            \n",
    "\"\"\"Combine .csv files\"\"\"\n",
    "def combine_files(first_year,last_year):\n",
    "    fout = open(\"lyrics/bh100.csv\",\"a\")\n",
    "    for number in range(first_year,last_year+1):\n",
    "        f = open(\"lyrics/20\"+str(number)+\".csv\")\n",
    "        #sktpping the header\n",
    "        if number != first_year:\n",
    "            next(f)\n",
    "        for line in f:\n",
    "            fout.write(line)\n",
    "        f.close()\n",
    "    fout.close()\n",
    "    \n",
    "\n",
    "def main():\n",
    "    # The splitting via years was made in case of request timeouts\n",
    "    years= [\"2016\",\"2017\",\"2018\"]\n",
    "    for year in years:\n",
    "            write_lyrics(year)\n",
    "    combine_files(16,18)\n",
    "    \n",
    "main()\n"
   ]
  }
 ],
 "metadata": {
  "kernelspec": {
   "display_name": "Python 3",
   "language": "python",
   "name": "python3"
  },
  "language_info": {
   "codemirror_mode": {
    "name": "ipython",
    "version": 3
   },
   "file_extension": ".py",
   "mimetype": "text/x-python",
   "name": "python",
   "nbconvert_exporter": "python",
   "pygments_lexer": "ipython3",
   "version": "3.7.3"
  },
  "stem_cell": {
   "cell_type": "raw",
   "metadata": {
    "pycharm": {
     "metadata": false
    }
   },
   "source": ""
  },
  "pycharm": {
   "stem_cell": {
    "cell_type": "raw",
    "source": [],
    "metadata": {
     "collapsed": false
    }
   }
  }
 },
 "nbformat": 4,
 "nbformat_minor": 2
}