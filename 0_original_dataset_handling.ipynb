{
 "cells": [
  {
   "cell_type": "code",
   "execution_count": 2,
   "outputs": [
    {
     "name": "stdout",
     "text": [
      "1966 done.\n",
      "1967 done.\n",
      "1968 done.\n",
      "1969 done.\n1970 done.",
      "\n1971 done.",
      "\n",
      "1972 done.\n",
      "1973 done.\n",
      "1974 done.\n",
      "1975 done.\n1976 done.\n",
      "1977 done.\n",
      "1978 done.\n",
      "1979 done.\n",
      "1980 done.\n",
      "1981 done.\n",
      "1982 done.\n1983 done.",
      "\n",
      "1984 done.\n",
      "1985 done.\n",
      "1986 done.\n",
      "1987 done.\n1988 done.\n",
      "1989 done.\n",
      "1990 done.\n",
      "1991 done.\n",
      "1992 done.\n",
      "1993 done.\n1994 done.",
      "\n",
      "1995 done.\n",
      "1996 done.\n",
      "1997 done.\n",
      "1998 done.\n",
      "1999 done.\n",
      "2000 done.\n",
      "2001 done.\n",
      "2002 done.\n",
      "2003 done.\n",
      "2004 done.\n",
      "2005 done.\n",
      "2006 done.\n",
      "2007 done.\n2008 done.",
      "\n",
      "2009 done.\n2010 done.",
      "\n",
      "2011 done.\n",
      "2012 done.\n",
      "2013 done.\n2014 done.\n",
      "2015 done.\n2016 done.\n"
     ],
     "output_type": "stream"
    }
   ],
   "source": [
    "import csv\n",
    "import os\n",
    "import re\n",
    "\n",
    "def clean_string(content,allow_spaces):\n",
    "    if allow_spaces:\n",
    "        return re.sub(r\"[^a-zA-Z0-9]+\", ' ', content)\n",
    "    else:\n",
    "        return re.sub(r\"[^a-zA-Z0-9]+\", '', content)\n",
    "\n",
    "with open('original_dataset/billboard_lyrics_1964-2015.csv', 'r') as csvfile1:\n",
    "    reader = csv.reader(csvfile1, delimiter=',')\n",
    "    next(reader)\n",
    "    year = 1965\n",
    "    \n",
    "    while year<2016:\n",
    "        with open('lyrics/'+str(year)+'.csv', 'w', newline=\"\") as csvfile2:\n",
    "            filewriter = csv.writer(\n",
    "                csvfile2,\n",
    "                delimiter=',',\n",
    "                quotechar='|',\n",
    "                quoting=csv.QUOTE_MINIMAL\n",
    "            )\n",
    "            filewriter.writerow(['Rank', 'Song', 'Artist', 'Year','Lyrics'])\n",
    "            for number in range(0,100):\n",
    "                song = next(reader)\n",
    "                song_lyrics = \"\".encode('utf-8')\n",
    "                song_name = clean_string(song[1].capitalize(),True)\n",
    "                song_artist = clean_string(song[2].capitalize(),True)\n",
    "                \n",
    "                lyrics = clean_string(song[4],True)\n",
    "                if lyrics != \"\" and lyrics != \"instrumental\" and lyrics != \"NA\":\n",
    "                    song_lyrics = song[4].encode('utf-8')\n",
    "                    \n",
    "                filewriter.writerow([song[0], song_name , song_artist, str(year),song_lyrics])\n",
    "                if not os.path.exists('lyrics/raws/'+str(year)):\n",
    "                    os.mkdir('lyrics/raws/'+str(year))\n",
    "                with open('lyrics/raws/'+str(year)+'/'+song_name+'.txt', 'w', newline=\"\") as txt_file:\n",
    "                    txt_file.write(clean_string(song[4],True))\n",
    "            year +=1\n",
    "            print(str(year)+\" done.\")"
   ],
   "metadata": {
    "collapsed": false,
    "pycharm": {
     "name": "#%%\n",
     "is_executing": false
    }
   }
  }
 ],
 "metadata": {
  "kernelspec": {
   "name": "python3",
   "language": "python",
   "display_name": "Python 3"
  },
  "pycharm": {
   "stem_cell": {
    "cell_type": "raw",
    "source": [],
    "metadata": {
     "collapsed": false
    }
   }
  }
 },
 "nbformat": 4,
 "nbformat_minor": 2
}