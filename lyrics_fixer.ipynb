{
 "cells": [
  {
   "cell_type": "code",
   "execution_count": 52,
   "metadata": {
    "pycharm": {
     "is_executing": false
    }
   },
   "outputs": [
    {
     "name": "stdout",
     "text": [
      "b'I got my ticket for the long way round Two bottle a whiskey for the way And I sure would like some sweet company And I m leaving tomorrow wha do ya say When I m gone When I m gone You re gonna miss me when I m gone You re gonna miss me by my hair You re gonna miss me everywhere oh You re gonna miss me when I m gone I ve got my ticket for the long way round The one with the prettiest of views It s got mountains it s got rivers it s got sights to give you shivers But it sure would be prettier with you When I m gone When I m gone You re gonna miss me when I m gone You re gonna miss me by my walk You re gonna miss me by my talk oh You re gonna miss me when I m gone'\n"
     ],
     "output_type": "stream"
    }
   ],
   "source": [
    "import re\n",
    "def clean_lyrics(lyrics):\n",
    "    \"\"\"\n",
    "    Takes lyrics and removes annotations and empty lines\n",
    "    :param lyrics: original lyrics\n",
    "    :return: cleaned lyrics\n",
    "    \"\"\"\n",
    "    #Remove annotations\n",
    "    lyrics =  re.sub(r'[\\(\\[].*?[\\)\\]]', '',lyrics)\n",
    "    #Remove empty lines and commas\n",
    "    lyrics = [line.replace(',','') for line in lyrics.split('\\n') if line.strip() != '']\n",
    "    lyrics = \"\\n\".join(lyrics)\n",
    "    lyrics = re.sub(r\"[^a-zA-Z0-9]+\", ' ', lyrics)\n",
    "    \n",
    "    return lyrics\n",
    "\n",
    "x = \"I got my ticket for the long way ‘round Two bottle ‘a whiskey for the way And I sure would like some sweet company And I’m leaving tomorrow, wha-do-ya say? When I’m gone When I’m gone You’re gonna miss me when I’m gone You’re gonna miss me by my hair You’re gonna miss me everywhere, oh You’re gonna miss me when I’m gone I’ve got my ticket for the long way ‘round The one with the prettiest of views It’s got mountains, it’s got rivers, it’s got sights to give you shivers But it sure would be prettier with you When I’m gone When I’m gone You’re gonna miss me when I’m gone You’re gonna miss me by my walk You’re gonna miss me by my talk, oh You’re gonna miss me when I’m gone\"\n",
    "print(clean_lyrics(x).encode('utf-8'))\n"
   ]
  }
 ],
 "metadata": {
  "kernelspec": {
   "display_name": "Python 3",
   "language": "python",
   "name": "python3"
  },
  "language_info": {
   "codemirror_mode": {
    "name": "ipython",
    "version": 3
   },
   "file_extension": ".py",
   "mimetype": "text/x-python",
   "name": "python",
   "nbconvert_exporter": "python",
   "pygments_lexer": "ipython3",
   "version": "3.7.3"
  },
  "pycharm": {
   "stem_cell": {
    "cell_type": "raw",
    "source": [],
    "metadata": {
     "collapsed": false
    }
   }
  }
 },
 "nbformat": 4,
 "nbformat_minor": 2
}