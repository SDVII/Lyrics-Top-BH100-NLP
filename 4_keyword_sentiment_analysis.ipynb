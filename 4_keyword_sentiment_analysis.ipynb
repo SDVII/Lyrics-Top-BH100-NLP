{
 "cells": [
  {
   "cell_type": "code",
   "execution_count": 1,
   "metadata": {
    "pycharm": {
     "is_executing": false,
     "name": "#%%\n"
    }
   },
   "outputs": [
    {
     "name": "stdout",
     "text": [
      "Collecting package metadata: ...working... done\nSolving environment: ...working... done\n\n# All requested packages already installed.\n\n",
      "topic_rank.csv is done\n",
      "single_rank.csv is done\n",
      "position_rank.csv is done\n",
      "multipartite_rank.csv is done\n"
     ],
     "output_type": "stream"
    }
   ],
   "source": [
    "import csv\n",
    "import ast\n",
    "import sys\n",
    "import operator\n",
    "!conda install --yes --prefix {sys.prefix} pandas\n",
    "import pandas as pd\n",
    "\n",
    "lexicon_file = \"lexicon/NRC-Emotion-Lexicon-v0.92/NRC-Emotion-Lexicon-Wordlevel-v0.92.txt\"\n",
    "lexicon_df = pd.read_csv(lexicon_file,  names=[\"word\", \"emotion\", \"association\"], sep='\\t')\n",
    "methods = [\"Topic Rank\",\"Single Rank\",\"Position Rank\",\"Multipartite Rank\"]\n",
    "\n",
    "def method_formatter(method):\n",
    "    \"\"\"\n",
    "    Formats the method's name for writing\n",
    "    :param method: method's name\n",
    "    :return: formatted name\n",
    "    \"\"\"\n",
    "    return method.lower().replace(' ','_')\n",
    "    \n",
    "for index,method in enumerate(methods):\n",
    "    with open('results/keywords.csv', 'r') as csvfile:\n",
    "        reader = csv.reader(csvfile, delimiter=',')\n",
    "        next(reader)\n",
    "        \n",
    "        with open('results/'+method_formatter(method)+'_sentiments.csv', 'w', newline=\"\") as csvfile2:\n",
    "            filewriter = csv.writer(\n",
    "                csvfile2,\n",
    "                delimiter=',',\n",
    "                quotechar='|',\n",
    "                quoting=csv.QUOTE_MINIMAL\n",
    "            )\n",
    "            \n",
    "            filewriter.writerow(\n",
    "                [ \n",
    "                    'Rank','Song','Artist','Year','Main Emotion',\"anger\",\"anticipation\",\"disgust\",\"fear\",\"joy\",\"sadness\",\"surprise\",\"trust\",\"neutral\",\"na\"\n",
    "                ]\n",
    "            )\n",
    "            \n",
    "            for song in reader:\n",
    "                song_rank = song[0]\n",
    "                song_name = song[1]\n",
    "                song_artist = song[2]\n",
    "                song_year = song[3]\n",
    "                song_keywords = song[3+index+1]\n",
    "    \n",
    "                emotion_score = {\n",
    "                    \"anger\":0,\n",
    "                    \"anticipation\":0,\n",
    "                    \"disgust\":0,\n",
    "                    \"fear\":0,\n",
    "                    \"joy\":0,\n",
    "                    \"sadness\":0,\n",
    "                    \"surprise\":0,\n",
    "                    \"trust\":0,\n",
    "                    \"neutral\":0,\n",
    "                    \"na\":0,\n",
    "                }\n",
    "    \n",
    "                for word in song_keywords.split(';'):\n",
    "                    clean_word = word.replace(\"'\",'')\n",
    "                    matches = lexicon_df.loc[lexicon_df['word'] == clean_word]\n",
    "                    if not matches.empty:\n",
    "                        for emotions in matches.iterrows():\n",
    "                            is_neutral = True\n",
    "                            for emotion in emotions:\n",
    "                                if type(emotion) != int \\\n",
    "                                        and emotion.emotion !='positive'\\\n",
    "                                        and emotion.emotion !='negative':\n",
    "                                    if emotion.association == 1:\n",
    "                                        is_neutral = False\n",
    "                                    emotion_score[emotion.emotion] += emotion.association\n",
    "                            if is_neutral:\n",
    "                                emotion_score[\"neutral\"] = 1\n",
    "    \n",
    "                total_score = 0\n",
    "                for emotion in emotion_score:\n",
    "                    total_score += emotion_score[emotion]\n",
    "    \n",
    "                for emotion in emotion_score:\n",
    "                    if total_score != 0:\n",
    "                        emotion_score[emotion] = emotion_score[emotion]*100/total_score\n",
    "                    else:\n",
    "                        emotion_score['na'] = 100\n",
    "    \n",
    "                main_emotion = max(emotion_score.items(), key=operator.itemgetter(1))[0]\n",
    "                \n",
    "                filewriter.writerow(\n",
    "                    [\n",
    "                        song_rank,song_name,song_artist,song_year,main_emotion,emotion_score[\"anger\"],\n",
    "                        emotion_score[\"anticipation\"], emotion_score[\"disgust\"], emotion_score[\"fear\"],\n",
    "                        emotion_score[\"joy\"], emotion_score[\"sadness\"], emotion_score[\"surprise\"],\n",
    "                        emotion_score[\"trust\"],emotion_score[\"neutral\"], emotion_score[\"na\"]\n",
    "                    ]\n",
    "                )\n",
    "                \n",
    "            print(method_formatter(method)+\".csv is done\")"
   ]
  },
  {
   "cell_type": "code",
   "execution_count": null,
   "metadata": {
    "pycharm": {
     "name": "#%%\n"
    }
   },
   "outputs": [],
   "source": [
    "\n"
   ]
  }
 ],
 "metadata": {
  "kernelspec": {
   "display_name": "Python 3",
   "language": "python",
   "name": "python3"
  },
  "language_info": {
   "codemirror_mode": {
    "name": "ipython",
    "version": 3
   },
   "file_extension": ".py",
   "mimetype": "text/x-python",
   "name": "python",
   "nbconvert_exporter": "python",
   "pygments_lexer": "ipython3",
   "version": "3.7.3"
  },
  "pycharm": {
   "stem_cell": {
    "cell_type": "raw",
    "metadata": {
     "collapsed": false
    },
    "source": []
   }
  }
 },
 "nbformat": 4,
 "nbformat_minor": 2
}