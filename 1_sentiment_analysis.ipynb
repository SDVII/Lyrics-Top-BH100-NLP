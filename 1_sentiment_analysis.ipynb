{
 "cells": [
  {
   "cell_type": "code",
   "execution_count": 80,
   "metadata": {
    "pycharm": {
     "is_executing": false
    }
   },
   "outputs": [
    {
     "name": "stdout",
     "text": [
      "Collecting package metadata: ...working... done\nSolving environment: ...working... done\n\n# All requested packages already installed.\n\n"
     ],
     "output_type": "stream"
    }
   ],
   "source": [
    "import csv\n",
    "import ast\n",
    "import sys\n",
    "import operator\n",
    "!conda install --yes --prefix {sys.prefix} pandas\n",
    "import pandas as pd\n",
    "\n",
    "lexicon_file = \"lexicon/NRC-Emotion-Lexicon-v0.92/NRC-Emotion-Lexicon-Wordlevel-v0.92.txt\"\n",
    "lexicon_df = pd.read_csv(lexicon_file,  names=[\"word\", \"emotion\", \"association\"], sep='\\t')\n",
    "\n",
    "def lyrics_decoder(lyrics):\n",
    "    return ast.literal_eval(lyrics).decode('utf8')\n",
    "    \n",
    "with open('lyrics/bh100.csv', 'r') as csvfile:\n",
    "    reader = csv.reader(csvfile, delimiter=',')\n",
    "    next(reader)\n",
    "    \n",
    "    with open('results/sentiments.csv', 'w', newline=\"\") as csvfile2:\n",
    "        filewriter = csv.writer(\n",
    "            csvfile2,\n",
    "            delimiter=',',\n",
    "            quotechar='|',\n",
    "            quoting=csv.QUOTE_MINIMAL\n",
    "        )\n",
    "        \n",
    "        filewriter.writerow(\n",
    "            [ \n",
    "                'Rank','Song','Artist','Year','Main Emotion',\"anger\",\"anticipation\",\"disgust\",\"fear\",\"joy\",\"sadness\",\"surprise\",\"trust\"\n",
    "            ]\n",
    "        )\n",
    "        for song in reader:\n",
    "            song_rank = song[0]\n",
    "            song_name = song[1]\n",
    "            song_artist = song[2]\n",
    "            song_year = song[3]\n",
    "            song_lyrics = lyrics_decoder(song[4])\n",
    "\n",
    "            emotion_score = {\n",
    "                \"anger\":0,\n",
    "                \"anticipation\":0,\n",
    "                \"disgust\":0,\n",
    "                \"fear\":0,\n",
    "                \"joy\":0,\n",
    "                \"sadness\":0,\n",
    "                \"surprise\":0,\n",
    "                \"trust\":0\n",
    "            }\n",
    "\n",
    "            for word in song_lyrics.split():\n",
    "                clean_word = word.replace(\"'\",'')\n",
    "                matches = lexicon_df.loc[lexicon_df['word'] == clean_word]\n",
    "                if not matches.empty:\n",
    "                    for emotions in matches.iterrows():\n",
    "                        for emotion in emotions:\n",
    "                            if type(emotion) != int \\\n",
    "                                    and emotion.emotion !='positive'\\\n",
    "                                    and emotion.emotion !='negative':\n",
    "                                emotion_score[emotion.emotion] += emotion.association\n",
    "\n",
    "            total_score = 0\n",
    "            for emotion in emotion_score:\n",
    "                total_score += emotion_score[emotion]\n",
    "\n",
    "            for emotion in emotion_score:\n",
    "                emotion_score[emotion] = emotion_score[emotion]*100/total_score\n",
    "\n",
    "            main_emotion = max(emotion_score.items(), key=operator.itemgetter(1))[0]\n",
    "            \n",
    "            filewriter.writerow(\n",
    "                [\n",
    "                    song_rank,song_name,song_artist,song_year,main_emotion,emotion_score[\"anger\"],\n",
    "                    emotion_score[\"anticipation\"], emotion_score[\"disgust\"], emotion_score[\"fear\"],\n",
    "                    emotion_score[\"joy\"], emotion_score[\"sadness\"], emotion_score[\"surprise\"],\n",
    "                    emotion_score[\"trust\"],\n",
    "                ]\n",
    "            )        \n"
   ]
  }
 ],
 "metadata": {
  "kernelspec": {
   "display_name": "Python 3",
   "language": "python",
   "name": "python3"
  },
  "language_info": {
   "codemirror_mode": {
    "name": "ipython",
    "version": 3
   },
   "file_extension": ".py",
   "mimetype": "text/x-python",
   "name": "python",
   "nbconvert_exporter": "python",
   "pygments_lexer": "ipython3",
   "version": "3.7.3"
  },
  "pycharm": {
   "stem_cell": {
    "cell_type": "raw",
    "source": [],
    "metadata": {
     "collapsed": false
    }
   }
  }
 },
 "nbformat": 4,
 "nbformat_minor": 2
}